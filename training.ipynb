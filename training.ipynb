{
  "nbformat": 4,
  "nbformat_minor": 0,
  "metadata": {
    "colab": {
      "provenance": []
    },
    "kernelspec": {
      "name": "python3",
      "display_name": "Python 3"
    },
    "language_info": {
      "name": "python"
    }
  },
  "cells": [
    {
      "cell_type": "code",
      "source": [
        "import gensim.downloader\n",
        "glove_vectors = gensim.downloader.load('glove-twitter-50')\n",
        "#glove_vectors100 = gensim.downloader.load('glove-twitter-100')\n",
        "#lexvec = gensim.models.Word2Vec.load_word2vec_format('path-to-vectors.txt', binary=False)\n"
      ],
      "metadata": {
        "id": "yct33QJF9tnB"
      },
      "execution_count": null,
      "outputs": []
    },
    {
      "cell_type": "code",
      "execution_count": null,
      "metadata": {
        "colab": {
          "base_uri": "https://localhost:8080/"
        },
        "id": "QLIpwktEnURd",
        "outputId": "fcc307bb-7a5f-4b8b-8989-48a38cf030b5"
      },
      "outputs": [
        {
          "output_type": "stream",
          "name": "stderr",
          "text": [
            "[nltk_data] Downloading package wordnet to /root/nltk_data...\n",
            "[nltk_data]   Package wordnet is already up-to-date!\n",
            "[nltk_data] Downloading package omw-1.4 to /root/nltk_data...\n",
            "[nltk_data]   Package omw-1.4 is already up-to-date!\n"
          ]
        },
        {
          "output_type": "stream",
          "name": "stdout",
          "text": [
            "3530\n",
            "[\"Reviewing the food.\\nHard to justify $16 for a burger and fries BUT wowow this burger was so delicious. I'm not sure if I was just starving but ordered the Lama burger and the patty size is quality. They also have random ingredients thrown in that you probably haven't seen before like gruyere stuffed in a pepper on your burger. Fries came out nice and crisp vs. soggy and the bun on that burger was great. You order inside by the Nook and then can sit around. They have tons of craft beer to choose from and I could see this place getting packed on the weekends.\", 'Dog friendly and good selection of food and drinks. Cute outdoor patio. \\n\\nWe ordered the Nook Burger and Crab Cakes with slaw. \\nBoth were delicious. I would come back again when in the area.', \"I stopped by with my partner during happy hour and it was busy, but didn't seem to attract a rowdy crowd. There was a great mix of people of different ages and it felt very accessible. This is the first place I ever felt offered an impressive selection of beers both on tap and canned/bottled. I also overheard the staff patiently help some patrons decide what to drink based on their preferences--some places get very impatient and just want you to pick something. That being said, servers were either very attentive or very busy, but that's to be expected. This is my new favorite spot in the Funk Zone!\", 'Such a cute little fun place! Bonus points for dog friendly bar and good beer. It gets pretty crowded though. Pretzel was okay', \"Lama Dog Rocks! We visited on a Friday around lunch. It's not a huge place but has a good sized bar area along with a long and high community table as the main seating options. There is also a really nice outdoor patio that's away from the road. Lama keeps an eclectic mix of about 20 beers on tap at any given time spanning the gamut from light sours thru big chewy stouts. These days 20 beers is a solid number but not amazing. What is amazing about the 20 beers they had on when we visited was the quality level of the producers represented. A few great local brewers you don't see a lot around town, Draughtsmen and The Brewhouse as well as some fairly rare sightings from outside the area like Bottle Logic , El Segundo and 21st Amendment. Sour beer lovers take note, spots 11-13 on the board are reserved for sour beers.. Overall this is a great place. Staff are great, vibe is really good, it can get packed but on a not too crowded day it's a place you just never want to leave. Oh, did I mention that the Nook food bar is located right inside next to Lama Dog? And, on top of all that they have an excellent selection of bottle beers to buy and take home.\", \"Good beer and wine bar with pretty decent food next door. Kinda pricey but that's expected at a joint like this in Santa Barbara. Overall good spot for a beer and burger.\\n\\nFeedback for management: One thing was they served our wine in a completely wet glass (inside and out) with water droplets all over it. This was surprising at a fancy beer and wine shop for this to happen, so only feedback is to dry the glasses before serving. \\n\\nOtherwise cool spot!\", \"Maybe it's because I'm used to drinking in hipster neighborhoods of Los Angeles, but whenever I walk into a craft beer bar and it feels at all like a place where you might watch sports, I get a light jolt of culture shock. I don't know exactly what I expected of Lama Dog, but once I walked in, it was pretty clear that it wasn't quite for me. The place was busy and loud and too well lit--it was hard to get cozy, or even just seated.\\n\\nWe hadn't eaten, so we got some food at The Nook, a little shack inside the Lama Dog space. The set-up was good in theory--a food window and a bar, with tables in between--but we ended up standing awkwardly, eating and drinking with our food and beer crammed onto a narrow ledge.\\n\\nThe bar was busy, and it took a long time for us to get a bartender's attention. We only stayed for one round--we got the Good Beer Company Saison Ana and the Third Window Lightning of Discorus. Both were good and interesting, though the saison was very sour, maybe not technically a sour beer, but probably worth noting on the board.\\n\\nIt's entirely possible I'd like Lama Dog on a weeknight--the beer selection was cool, and there was an outdoor patio that seemed more pleasant. We're only ever in Santa Barbara on weekends, though, so I doubt we'll really come here again. Our geezer asses need to drink where we can relax.\", \"UPDATEEEE!\\n\\nLove, love, love Lama dog! I wrote my review a year ago and wasn't too impressed by their tap selection, but boy has my opinion changed. They have the most exciting craft beers available on tap in Santa Barbara. I am constantly on the taphunters app to see what new beer they have now. Not only is their beer amazing, their fridge is always stocked with the newest bottles from distributors in LA.\\n\\nAnytime I have friends visiting this is the go-to place I bring them. There is plenty of seating (it does get PACKED though, that hasn't changed), and a cool outdoor patio where dogs are allowed. The food is amazing and always something I look forward to. The servers are super friendly and knowledgeable!\\n\\nI couldn't be happier! I have 10 check-ins so far (probably have more that wasn't checked in) and you bet I'll be back many times more.\\n\\n- J\", 'Yelp Challenge 19/100..\\n\\nLAMA DOG.. cures all RUFF times.. \\nCame here on Sunday and man was it fun-- the selection was from #1 to #20.. you can try a sampler before getting a nice pint of one. The cups were a little small than usual cups but it is really good selection of beers! You can also spin a ball and whatever number it lands on and then that number happen to be the same number as your beer selection on the menu..you get a dollar off.. genius technique.\\n\\nKeep up the nice tap selection!', 'This is as New and Hot as it gets! In the Funk Zone and only open since last weekend, this place was already slam packed with thirsty customers!\\n\\nLama Dog has 20 revolving beers on tap! Telegraph, Alagast, Island Brewery, Lost Abbey and Ninkasi to name a few. They also serve wine. The bar serves inside or outside through windows where there is a nice patio. \\n\\nTwo large screen TVs and tons of Bottle Beer choices as well.\\n\\nAnother plus, is Nook which has a space in the same building and serves FOOD! We tried the housemade Brat and it was very good. They give you a buzzer so you can go back to drinking your beer and grab your food when it is ready!\\n\\nThis will definitely be the new stop to anchor the far side of the Funk Zone.', 'Friday night and exceptionally busy but Niko, cute female bartender, was FANTASTIC! \\nBoochcraft grapefruit is really good, but a bit sweet. Coronado pumpkin beer was delicious! \\nFood was super good, albeit a bit pricey. \\nBurger was delicious! Bun was a bit soggy, Parm garlic fries were yummy, pretzel was just ok (skip it).\\nMost brews $8-12 (20 beers on tap),\\nAverage price of food $15-20.\\nDog friendly!\\nCan buy at the \"bottle shop\" to go!\\nWill return.', 'Good stuff. Got here early as the spot flyers really full. The Kambucha/ginger beer is awesome! Refreshing and 7% alcohol. The double hops (?) IPA was also really good. You can try out before you commit to a drink. The staff is friendly and the place is casual.', \"Neat little spot in the funk zone. Great beer and atmosphere. Didn't stay long. But I will be back. Give it a try and enjoy.\", \"Great great great!! \\nGreat selection of beer. Both bottles and on tap.\\nGreat cool vibe. Big bar area. Indoor seating and outdoor Fresh and open. \\nGreat service, especially if you manage to show up when Ally is working...well, you know it's a good day for sure. \\nGo, you'll love it.\", \"This location and layout is fantastic!  It made my little weekend vacation so nice!\\n\\nI'm a light beer lady, so I didn't feel like I had a ton of tap choices (at least enough to have a flight that day), but love the atmosphere here.  The service is great and my hubby loved the stout and sour selections.\\n\\nRecommended to us by a good friend- it was excellent.\", \"Casual food joint in the heart of Funk Zone with pretty good food and a cool atmosphere surrounded by other breweries which makes drinking convenient hah. For their food, I would say 5 stars for their pork belly quesadilla and 3 stars for their grilled fish tacos. People around me were eating their big burgers so I'm guessing I should try that next time! Come early to beat the crowd in lines!\", 'I feel like you need to be friends with a bartender here to get priority in service. I was there for almost ten minutes with my mom and dad, at the bar,  before the bartender stopped chatting with her buddies to even notice we were sitting there. Their wine selection is limited to one choice for anyone who can\\'t drink red. The vibe is relaxed and fun, but it kind of feels like a surfster clubhouse where newcomers are more of an annoyance than welcomed. A \"regular\" sat next to me at the bar, turned his back so he could see his group of friends and nearly pushed my seat over as he spread his arms out to \"get comfortable\" nearly spilling my drink. He actually turned his head to look at me and SNORTED, like I was in his way... and then proceeded to spread out even more, forcing me to scoot my chair over.... and all I could think of was that nasty family of bullies from the national Lampoon series ... but this person seemed to belong to the surfster clubhouse, so they got service almost instantly as he took a seat! Is Lama Dog turning into the \"clique\" that is marketing as the antithesis of a clique .... it feels like the \"Reality\" of Craft Brew Houses. Nondenominational, but still judging their clientele for liking Chardonnay.', \"As someone who has recently gotten into microbreweries and craft beer, the beers on tap were pretty average. I can see some exciting potential that is happening but wasn't too impressed with their current selection. Besides that point I thoroughly enjoyed my experience a Lama dog. When I went it was very packed (which is a good thing!) but the staff did such a great job moving everyone around and getting to them. The atmosphere is lively and fun and there is plenty of room to fit everyone. They have long tables for seating, seating at the bar, and a outside patio area that is very well decorated. I didn't get to try their food, but I heard great things about it.\\n\\nOne of my favorite things about this place is their walk in fridge with great beer selections! Although we saw a parabola from firestone in a box, but they said we weren't allowed to purchase it. I don't think they are allowed to hoard beer (isn't that illegal?), since there was some confusion within staff members as well. They have great craft beer from other microbreweries for purchase.\\n\\nBesides that weird hiccup I did enjoy lama dog and would recommend anyone who's looking for a good time to drop by.\\n\\n- J\", 'This was such a cool place it was casual, upbeat, and relaxing.  The bartender had a great attitude and made you feel welcomed.  If you love beer well this is the place to be they have a huge selection including beers from others parts of the world.  You can also purchase beer to take home with you.  While you enjoy your beers or wine you can watch the big screen TV\\'s and order food from the Nook located inside the \"Lama Dog\".  This is a great spot to meet and greet friends and family, grab a beer and burger and relax on the outside patio, or inside watching TV.', \"Loved the patio and that it didn't feel too crowded inside. There's a very large selection, you'll make everyone happy when coming here. There is food but the kitchen closes at 10. It does get hot in there so plan ahead.\", \"Came here on a Saturday afternoon, the place was pretty busy with great energy. \\n\\nService & atmosphere: Everyone from the bouncers to the servers were really warm and friendly (or maybe I'm just not used to friendly California people yet after years of east coast and Chicago customer service). The space is pretty cute with a long patio outside and open communal tables inside. \\n\\nFood & Drinks: So I only had wine, but my friends had multiple rounds of beers so I'm assuming they were good. Foodwise, we ordered lobster mac n cheese (maybe we ordered two, don't judge us), truffle fries, and pork belly quesadilla. The mac n cheese was really tasty and cheesy, though not a whole lot of lobster. The pork belly quesadillas were also delicious, though I of course would have appreciated a little more pork belly. And the fries were a solid choice, though with such other rich foods around they kind of blended into the background of my tipsy memory. \\n\\nOverall, great lively space with good food. Will def be back to sample other food and beer.\", \"Had lunch and a beer here and loved it. \\n\\nFood available at The Nook, located right inside (great menu & delicious food). \\n\\nExcellent beer list that's constantly changing. I had a delicious sour (something with rhubarb, it was fantastic). \\n\\nI love their logo too - so cute. \\n\\nGreat atmosphere and an awesome place for a drink at any time of day!\", 'I love the ambiance and vibe of this place but it gets SO crowded! A dozen of us were hovered across one cocktail table. The food at the Nook was kinda pricey for the portion but the truffle fries were pretty decent. I had the Modern Times wheat ale which was okay. The prices are steep considering the small glass you get. I would come back just for the environment (minus the crowd) but the drinks are just decent here.', \"My friend and I stopped by for an late afternoon drink and snack. Located in the Funk Zone shared by other drink and food vendors, it was a very hopping place (no pun intended) with people and all their pooches. \\n\\nWe sat at the outside bar. The bartender was very attentive. The craft beer selection was quit extensive. Glasses are cute. Beers tasted good, not a WOW especially at the  WOW overpricing they charge. We had the Oskar Blues Dale's Pale Ale and the Third Window Summer Saison.\\n\\nAtmosphere: fun lively bar, Service: very good, Beer: good but overpriced\", 'Great beer selection, but pricey. Also, 4/5 green stars.\\nLama Dog had 18 beers on tap when I visited. I tried four of them - 4 oz. pours for $3 each. Note that this translates to $12 per pint, while a 4 oz. pour from Figueroa Mountain Brewing down the street is $2. Would be nice if it was a bit cheaper or if they had a flight deal for $10 or less. Here\\'s what I had:\\nIsland Hop Hefner (Hefeweizen from Carpenteria) - a decent hefe.\\nM.Special Dozers Brown (American brown ale, Goleta) - very rich and tasty, perfect for a small pour.\\nBoochcraft Ginger Lime Rosehips (San Diego) - great choice for a hot day, highly recommended. \\nThe Lost Abbey, Lost and Found (Dubbel with raisins, San Marcos) - also recommended.\\n\\nI also had truffle parmesan fries from the Nook. They were $7 but I had to admit that they were worth it, just not every day. Overall, staff members were very busy but fairly friendly. The alleyway has nice outdoor seating. Definitely worth a visit for their interesting beer selection which changes frequently.\\n\\nI\\'m also giving Lama Dog 4/5 \"green stars\" for social and environmental impact, based on these reasons:\\n* Of the 18 beers on tap, 11 were from California, 3 from other states, and 4 from overseas. \\n* Their walk-in cold room sounds like an energy-hog. Hope they get solar panels!\\n* Of the beers I tried, I think Boochcraft stands out for social and environmental impact. What they make is actually alcoholic kombucha, and it\\'s made from locally-sourced, organic ingredients. They also donate 1% of proceeds to local charities related to sustainable food.\\n* Overall, glad to have been introduced to a new sustainable brewery, Boochcraft, at Lama Dog. \\n\\nFind out more about the other green star thing at Green Stars Project dot org.', 'Great service Sunday 11/5, thank you! The Vognier is not too sweet, just right, and pretty competitively priced at $9', \"Exploring Santa Barbara's Funk Zone, we walked by Lama Dog and were immediately drawn in just based on the logo itself! (gotta applaud that marketing!  The medium sized taplist was displayed in multiple areas, but, if you didn't find anything that sounds good, they have many refrigerators full of beer, cider, and alcoholic kombucha for purpose too! (however, I did find it surprising that more of their taplist wasn't local)  After choosing our beverages, we sat outside and enjoyed the ambiance.  Dogs are allowed so I was able to dog watch AND people watch while I enjoyed my beer.  The little patio next to the bar they have is very relaxing and is perfect to enjoy a nice sunny Santa Barbara day from.\", 'Great place to hang out with friends and lots of outdoor seating with heat lamps. They have ~15 beers on tap but they also have tons of cans/bottle options in the back! They have a cold room with lots of local beers / ciders. I tried the Japas Taiyaki beer which was a smooth, rich imperial stout with chocolate and caramel notes.', 'Good stuff. Got here early as the spot flyers really full. The Kambucha/ginger beer is awesome! Refreshing and 7% alcohol. The double hops (?) IPA was also really good. You can try out before you commit to a drink. The staff is friendly and the place is casual.', \"LD has alcoholic kombucha on tap and the flavors update every so often. They also have More kombucha flavors in bottles for sale in their walk in fridge. How awesome is that! \\n\\nI stopped by on a bar hop this past Friday evening and out of all the places I visited, Llama Dog had the most helpful and friendly staff. They gave me free tasters, taught me how to decide what my palette wants based on the days activities and food consumption, and (though it was extremely packed) treated each customer with proper value and kindness. \\n\\nI ended up purchasing #16 which was a light summer beer locally brewed here in Santa Barbara County. It was one of the greatest beers I've had and it was all due to the process the staff took the time to go through with me. \\n\\nJust to put a cherry on top- They have Jenga and other awesome boards games. (See counter space by walk-in fridges.)\", \"We stopped here recently while in town to grab a beer.  Although Lama Dog doesn't brew their own, they do have a nice selection of craft beer either by the tap or bottle that you can grab and have a seat.  Their bottle and can selection is pretty extensive so you should be able to find something you like, even the hard to get stuff.  There's also another room off to the side if you don't see anything on the shelves.  They also have a small patio in the back as well.\", \"I loveeeeeee Lama Dog! \\n\\nA friend from college introduced me to this place and I've adored it ever since. It's a warehouse they they converted into a bar that serves wine, beer, and delicious food. It has a great hipster vibe with both inside and outside seating. \\n\\nThe selection of wine and beer is expansive. I really enjoy their sour beers. All three of them are fantastic but I go for the most sour of them all. \\n\\nAs for the food, anything you get here is going to be delicious. I've had their turkey burger, truffle fries, Brussels sprouts, and so many other items I can't remember. No matter what I order, it is absolutely great quality on any day. I highly recommend the food here. \\n\\nThis is definitely a fun, artsy food experience and you can't come to SB without trying it.\", \"After hearing my coworkers rave about this place, I was finally able to make a stop. Saturday was popping and it was hard to navigate and move around to find seating because it was SO crowded. We finally settled with a small standing area. \\n\\nGot beers, lobster Mac n cheese and the big pretzel. The beers were delicious and very affordable. The pretzel looked delicious but the taste was disappointing. The dough wasn't dough-y like pretzels should be. Instead it just tasted like dry regularly white bread. The mustard was yummy though. The lobster mac n cheese was also disappointing. The flavors were underwhelming. \\n\\nMaybe we just got a the wrong food choices or maybe Nook was having a bad cook day... I'll be back to give it another try with the burgers and tacos. Will always come back for the beer for sure.\\n\\nBeer = 4 stars \\nFood = 3 stars\\nAtmosphere = 4 stars\", 'Amazing selection of beers and wine, solid pub food.\\n\\nHappened upon this taproom while exploring the area and were happily surprised by the selection of beers available (on tap and bottled). Was traveling with a wine-snob, so the fact that they also carried a solid selection of wines made this place a crowd pleaser ;)\\n\\nOrdered spicy totchos and lobster Mac n cheese to share and a lager and Belgian ale to wash it all down. The beer was refreshing, if a little unremarkable, but the pub food made it all worth it!\\n\\nFun place to stop for a drink and appetizer.', 'Awesome beer, even better vibes, and solid food.\\n\\nCame here for drinks and to watch the NBA playoffs. We were delighted with every choice of beer we made / was recommended to us. The team working on Tuesday night could not have been kinder or more friendly. The whole aura of Lama Dog Tap Room is just chill, relaxing and fun.\\n\\nGreat spot to hang out and enjoy tasty beverages. Also, food is elevated bar food but still bar food. Come for the drinks and people', \"Really beautiful space, great tap selection, friendly staff, and really comfortable environment. Unsurprisingly, they are also dog-friendly! I stopped by on vacation and was drawn in due to missing my dog at home. It's a great place to visit and get your dog-fix.\", \"Great overall experience for my first time here!  Plenty of variety in craft beer options, and the kitchen menu foods (separate order and pay) made it perfect for grabbing an appetizer or meal with a cold one.  Both indoor and outdoor patio (small but good for dogs) seating, a perfect casual spot for get togethers.  And a bonus was you can order food takeout and enjoy it next door at the Topa Topa brewery (but you can't bring their beer over to Lama) which also has lots of their own craft brews. \\n\\nWasn't super hungry so ordered a couple appetizers to share. If it is on the regular menu, highly recommend the Sausage bites, combination of house-made bratwurst and Fennel Sausage; it was served with a side of brown spicy mustard and a light chipotle style pickle dip - both meats were tasty even without dipping. And I could've eaten a plate by myself!\\n\\nAlso ordered the Pork belly quesadillas, tasty shredded pork with cheese in grilled tortilla, served with light bed of shredded veggies, pico and drizzled with a combination of avocado cream and chipotle sauces, really good!!  Unfortunately they were out of the crab cakes, so I'll have to try next time.\\n\\nCheck out Lama Dog in the Funk Zone if in the Ventura area, worth a visit!  Meal cost was reasonable around $10-15pp, plus your drinks. Enjoy!!\", 'This place had a great environment . The staff was friendly and helpful. This was the first place we started our wine tasting day at .', 'This place is awesome. It\\'s on lower Santa Barbara street, in an area you would never suspect a restaurant like this. Really cool ambiance, tons of beer selections and outdoor seating (but all of it is in full sun). Community style seating inside with long wooden tables. The food is awesome. My hamburger was absolutely delicious....you say \"how can that be? It\\'s just a hamburger?\"  The buns are great, fresh ingredients. The truffle fries are to die for....ill go back just for fries and a beer!  Highly recommend. Very sweet people working there.', \"Lama Dog has an amazing neighborhood atmosphere. There's a long, communal high-top table and seating outside. Both times we visited Lama Dog Tap Room was packed and standing room only. That's always a good sign. \\n\\nLama Dog also offers a terrific selection of bottled and canned beers, as well as hard kombucha and cider. When we visited two years ago, we bought a couple of six-packs of the coveted Victory Brewing Golden Monkey. Alas, none today. But there were still a lot of other choices. Note that if you do end up having a bottled or canned drink on the premises the corkage fee is $2. Some of the highlights of the draft menu today were the Russian River Pliny the Elder and the Fremont Rusty Nail. Great selection and lots of high-percentage ABV choices. There was also a sour beer option. The gluten-free option on the menu was the hard kombucha.\", 'Great new spot in the funk Zone. Incredible bottle beer selection that you can purchase and open on the premises as well as a very nice rotating tap selection. They also have a little restaurant inside called the Nook for food. Definitely a great spot to come and check out. Great attentive service knowledgeable friendly staff and a great vibe to the place.', \"I visited Lama Dog Tap Room with my family when we were in Santa Barbara. My sister and brother-in-law like this place and had visited before. \\n\\nThey have a whole entire walk-in fridge with a selection of beer in addition to their ones on tap. I'm not a beer drinker but my family is. Luckily they did have Mexican Bottled Coke for me!\\n\\nLama Dog shares a space with Nook which sells food. They have limited bar area seating indoors as well as outdoor seating.\", \"Im glad we came down to SB this weekend and stopped at our old joint Lama dog. They are open and jumping. Business seems to be great. I was worried some places wouldn't make it threw the pandemic. Great cider and great patio and social distance!!\", \"This was recommended by a friend as a good spot for a beer. They have a small patio that's super cute. Dog friendly. They had a kitchen inside called Nook, we didn't try, but looks great. It was very busy, almost hectic inside. A good variety of beers though. I tried one of their ciders and really enjoyed. Cool spot for a beer for sure.\", 'great place for beer and with the nook attached at the hip the food was on point too we got a couple of red beers followed by;\\n\\nElizabeth had the Blackened Rock Fish Soft Tacos, with cabbage, salsa, avocado, queso fresco and chipotle mayonnaise, served on corn tortillas. comes three per order\\n\\nI had the NOOK Burger, with a med-rare ground chuck and tenderloin patty, bacon jam, tomato, pickle, swiss cheese, and \"special\" house sauce....one of the best burgers I have had.\\n\\nWe met with our friends from our SB buggie ride here for lunch after our ride. what a great spot to feast after an exhilarating ride thru Santa Barbara!', \"Great place to relax, grab a drink, socialize, and have fun. \\n\\nLama Dog Room is one of the many string of tap rooms and wine bars on Santa Barbara Street. There's seating inside and out, as well as a food stall where you can order bar style food - burgers, fries, salads, etc. albeit on the pricey side.\\n\\nThey have a wide range of drinks, from beer, wine, to alcoholic kombucha of local origin and some further out. Their menu also rotates pretty often, and I really like that they give you the choice of ordering a taster size of any drink if you're looking to try more than one drink or just hop around and try other tap rooms on the street. Another plus is that they have a large fridge filled of a robust selection of assorted wine and canned/bottled beers for those that also want to buy some to go. \\n\\nOverall, I highly recommend Lama Dog for those of you that love to try different types of beers. They have something for everyone!\", \"I love visiting Lama Dog when I'm looking for great beers in town! They have a wide selection of many beers from breweries locally, breweries out of town, and from all over the country! They are always changing the beers so everytime I come here they don't have the same beers. They have a wide selection of IPA's, sours, ambers, lagers, and more! They even have some wine and non alcoholic options too. \\n\\nThis place is always a good time and can get super busy so make sure to grab a seat if you can find one. The service is always great even when they are busy and it's so nice just being able to open a tab. They have a small outdoor area and are dog friendly so you are able to bring your dog with you. \\n\\nLama Dog is connected to The Nook for food. They have tons of delicious food options to choose from there! They have tacos, flatbreads,  tater tots, burgers, and mac and cheese and more! So many delicious tasty food choices here. Lama Dog is also connected to Topa Topa Brewery, and whole Waterline area. You aren't allowed to bring the beer from Lama Dog to any other brewery but you can bring the food from The Nook.\\n\\nOverall I love coming here and trying all their tasty delicious selection of beers! Can't wait to come back here again soon! :)\", \"I can't speak for the beer but I can speak for the ambiance. I love that they have a dog friendly patio to bring my pup (they do not allow dogs inside). I also love that you can order food from the nook while enjoying a drink from lama dog. Unfortunately, I can't drink beer but they do have some wine on tap and they have wine bottles for puschase. Most breweries do not have wine so I definitely appreciate having the option!\", 'This place had some very good craft beer and tasty food. The burger that had was so good, I had the fish tacos and I loved them. I got the Dog fish head red and white and my husband got the drakes aroma coma. They were very good. If your in sb you should definitely go here. Sweet spot', \"I really love Lama Dog. It's a fantastic addition to the Funk Zone. The ambiance is just cool. It's casual, with an open layout and quaint outside patio. They have tons of beer on tap and a huge selection of beer from all over the world to purchase in cans and bottles. They also have several, delicious kombuchas. I recommend the Grapefruit. I'm a big fan of bourbon barrel aged brews and they always have at least one on tap. I prefer to sit at the bar but they also have a long community table that is perfect when you have a few people in your party. They have TVs tuned to sports stations and good music playing in the background. If you drink up an appetite, you can order food from The Nook which is located inside Lama Dog. Even when the place is packed all the staff that I have encountered have been on their A - game providing recommendations and descriptions of the beer, attentive service and the all important, genuine smile. It goes a long way. This is certainly becoming one of my regular watering holes - even if I feel a little like I'm cheating on Figueroa Mountain Brew Co.\", 'Yes, Lama Dog Tap Room safely open for takeout. Stopped to check out the supply of beer. Not disappointed, great variety, great service. If you what to be educated in history of beers and try something different, stop by. Step out of the box and enjoy. We carried away six different varieties to try.  Carry away, stop along beach get a little take out food, find a quiet sunny spot and have a great treat.', \"We almost didn't make it here during our trip. They were 30 mins to closing and they told us they were closed. But there were customers still there. We thought they were going to welcome us when they smiled at us when we arrived. So we decided to come back the next day. We came Tuesday around 9:30pm. They have a good variety of beers to choose from. The Chile Guava Apple Cider was so good! They also have outdoor and indoor seatings. Parking is on the Street and there's a small parking lot area limit to 2 hours.\", \"Lama Dog is always a good time. Great spot with big garage door opening, pet friendly which is awesome to see. The draft beer list is always big and great local options - even Santa Maria on there! woot! \\n\\nOf course sharing the spot with The Nook, and Topa Topa next door, it's a place to spend many hours.\", 'Awesome spot for a beer. \\n\\nLama Dog is within the restored Waterline building in the funk zone. I feel that they were able to modernize this building while still keeping its \"funk\" alive. A win in my book. \\n\\nThis taproom is large with a wraparound bar and an abundance of seating. They also have a very narrow adjacent patio with their main bar wrapping out there as well. I love the design of the venue, how it\\'s connected to The Nook restaurant. Very convenient. \\n\\nThis place doesn\\'t brew their own beer but does offer a wide variety of brews from all over. There is something for all types of palettes. They always have a rotating tap of sorts which is set up to contribute a portion to a nonprofit of the month. Feels rewarding and rather effortless to give back to the local community while enjoying a great beer. Love it. \\n\\nI haven\\'t been since the start of Covid but have seen that they\\'ve expanded their outdoor seating options to include a parklet area. I hope to be by soon!', \"Bottom Line: Lesssse - Giant and amazing burger, huge selection of beer, NOFX is cranked up and friendly people are working there....I do not see a way to NOT give five stars.\\n\\nI have been here a few times but never for food - so now its review time!\\n\\nI had the Lama Burger which was awesome.  I must have skimmed over the chile part of the menu because when I bit into the burger, there was a chile in there.  Who knew (besides people who actually read the menu)?\\nIt was great!  I intentionally skipped breakfast and had a tiny lunch in order to really be ready for this.... and I was.\\n\\nThe fries were great, everything was hot, the service was good, the staff are polite.\\n\\nI have to say that their Covid rules left me a little annoyed as it was a little busy and I had to wait but it was mostly because I had skipped 1.5 meals that day.  As someone who also works as a server in the Funk Zone, I completely understand that it's to protect everyone but specifically the workers so I did my best to respect their rules.\\n\\nOver all I really liked this place and will be back\\n\\nOh and one more mention of them playing NOFX all night.\\n\\nYes.  Just ..... yes.\", \"This is a fun spot to grab a beer in the Funk Zone. The atmosphere is chill and there is a good beer selection. It can be crowded inside sometimes but the outdoor patio is nice. Although they don't brew their own beer, they have good beers on tap, canned beers to bring home, and a nice selection of wines. The prices are pretty reasonable. I haven't tried the food yet but maybe next time I'm in the area. I love that the bar is dog friendly!\", \"Lama Dog is a pretty cool location. I'm assuming this is in the funk zone area of SB (yes, I've lived in SB for about 3 years now and am still not entirely sure what encompasses the funk zone. \\n\\nThe line was a little ridiculous, but of course, this is entirely normal for a Friday night. The bouncer who was there last night is super friendly and very professional- someone should promote him! He let us in, and we stood in a fairly long line for food. I ended up getting the lobster mac and cheese, regular fries, and the caramel smore pie.\\n\\nThe lobster mac and cheese was tasty- very creamy, and had a very strong lobster taste. The fries came out crispy, hot and well seasoned which is always very important to me. The caramel smore pie... oh my goodness. It was decadent, and so flavorful- I'm drooling thinking about it! I would totally get it again. Since it's so rich, I would consider sneaking in a flask full of milk.\\n\\nAmbiance outside is loud and obnoxious, but why wouldn't it be on a Friday night? The inside is fairly spacious, and if you want a change, Topa Topa is right next door!\", \"woo hoo! another dog friendly place to imbibe! dogs are technically relegated to the narrow patio area, which can make for relative chaos, depending on the number, size and demeanor of aforementioned canines, although i did see a group of people smuggle a husky inside the taproom itself.\\n\\nthis is not a brewery, but it has a prolific selection of beers, ciders and kombucha, all available by the taste or full pour. the interior leads over to topa topa brewery and a wine tasting room, and there's a place in the middle of all these sweet establishments cranking out french fries, tacos and the like.\"]\n",
            "[['reviewing', 'food', 'hard', 'justify', 'burger', 'fry', 'wowow', 'burger', 'wa', 'delicious', 'm', 'sure', 'wa', 'starving', 'ordered', 'lama', 'burger', 'patty', 'size', 'quality', 'random', 'ingredient', 'thrown', 'probably', 'haven', 'seen', 'like', 'gruyere', 'stuffed', 'pepper', 'burger', 'fry', 'came', 'nice', 'crisp', 'v', 'soggy', 'bun', 'burger', 'wa', 'great', 'order', 'inside', 'nook', 'sit', 'ton', 'craft', 'beer', 'choose', 'place', 'getting', 'packed', 'weekend'], ['dog', 'friendly', 'good', 'selection', 'food', 'drink', 'cute', 'outdoor', 'patio', 'ordered', 'nook', 'burger', 'crab', 'cake', 'slaw', 'delicious', 'come', 'area'], ['stopped', 'partner', 'happy', 'hour', 'wa', 'busy', 'didn', 'attract', 'rowdy', 'crowd', 'wa', 'great', 'mix', 'people', 'different', 'age', 'felt', 'accessible', 'place', 'felt', 'offered', 'impressive', 'selection', 'beer', 'tap', 'canned', 'bottled', 'overheard', 'staff', 'patiently', 'help', 'patron', 'decide', 'drink', 'based', 'preference', 'place', 'impatient', 'want', 'pick', 'said', 'server', 'attentive', 'busy', 'expected', 'new', 'favorite', 'spot', 'funk', 'zone'], ['cute', 'little', 'fun', 'place', 'bonus', 'point', 'dog', 'friendly', 'bar', 'good', 'beer', 'pretty', 'crowded', 'pretzel', 'wa', 'okay'], ['lama', 'dog', 'rock', 'visited', 'friday', 'lunch', 'huge', 'place', 'ha', 'good', 'sized', 'bar', 'area', 'long', 'high', 'community', 'table', 'main', 'seating', 'option', 'nice', 'outdoor', 'patio', 'away', 'road', 'lama', 'eclectic', 'mix', 'beer', 'tap', 'given', 'time', 'spanning', 'gamut', 'light', 'sour', 'big', 'chewy', 'stout', 'day', 'beer', 'solid', 'number', 'amazing', 'amazing', 'beer', 'visited', 'wa', 'quality', 'level', 'producer', 'represented', 'great', 'local', 'brewer', 'don', 'lot', 'town', 'brewhouse', 'fairly', 'rare', 'sighting', 'outside', 'area', 'like', 'bottle', 'logic', 'el', 'segundo', 'amendment', 'sour', 'beer', 'lover', 'note', 'spot', 'board', 'reserved', 'sour', 'beer', 'overall', 'great', 'place', 'staff', 'great', 'vibe', 'good', 'packed', 'crowded', 'day', 'place', 'want', 'leave', 'oh', 'mention', 'nook', 'food', 'bar', 'located', 'right', 'inside', 'lama', 'dog', 'excellent', 'selection', 'bottle', 'beer', 'buy', 'home'], ['good', 'beer', 'wine', 'bar', 'pretty', 'decent', 'food', 'door', 'kinda', 'pricey', 'expected', 'joint', 'like', 'santa', 'barbara', 'overall', 'good', 'spot', 'beer', 'burger', 'feedback', 'management', 'thing', 'wa', 'served', 'wine', 'completely', 'wet', 'glass', 'inside', 'water', 'droplet', 'wa', 'surprising', 'fancy', 'beer', 'wine', 'shop', 'happen', 'feedback', 'dry', 'glass', 'serving', 'cool', 'spot'], ['maybe', 'm', 'drinking', 'hipster', 'neighborhood', 'los', 'angeles', 'walk', 'craft', 'beer', 'bar', 'feel', 'like', 'place', 'watch', 'sport', 'light', 'jolt', 'culture', 'shock', 'don', 'know', 'exactly', 'expected', 'lama', 'dog', 'walked', 'wa', 'pretty', 'clear', 'wasn', 'place', 'wa', 'busy', 'loud', 'lit', 'wa', 'hard', 'cozy', 'seated', 'hadn', 'eaten', 'got', 'food', 'nook', 'little', 'shack', 'inside', 'lama', 'dog', 'space', 'set', 'wa', 'good', 'theory', 'food', 'window', 'bar', 'table', 'ended', 'standing', 'awkwardly', 'eating', 'drinking', 'food', 'beer', 'crammed', 'narrow', 'ledge', 'bar', 'wa', 'busy', 'took', 'long', 'time', 'u', 'bartender', 'attention', 'stayed', 'round', 'got', 'good', 'beer', 'company', 'saison', 'ana', 'window', 'lightning', 'good', 'interesting', 'saison', 'wa', 'sour', 'maybe', 'technically', 'sour', 'beer', 'probably', 'worth', 'noting', 'board', 'entirely', 'possible', 'd', 'like', 'lama', 'dog', 'weeknight', 'beer', 'selection', 'wa', 'cool', 'wa', 'outdoor', 'patio', 'pleasant', 'santa', 'barbara', 'weekend', 'doubt', 'll', 'come', 'geezer', 'ass', 'need', 'drink', 'relax'], ['love', 'love', 'love', 'lama', 'dog', 'wrote', 'review', 'year', 'ago', 'wasn', 'impressed', 'tap', 'selection', 'boy', 'ha', 'opinion', 'changed', 'exciting', 'craft', 'beer', 'available', 'tap', 'santa', 'barbara', 'constantly', 'app', 'new', 'beer', 'beer', 'amazing', 'fridge', 'stocked', 'newest', 'bottle', 'distributor', 'la', 'anytime', 'friend', 'visiting', 'place', 'bring', 'plenty', 'seating', 'doe', 'packed', 'hasn', 'changed', 'cool', 'outdoor', 'patio', 'dog', 'allowed', 'food', 'amazing', 'look', 'forward', 'server', 'super', 'friendly', 'knowledgeable', 'couldn', 'happier', 'check', 'far', 'probably', 'wasn', 'checked', 'bet', 'll', 'time', 'j'], ['yelp', 'challenge', 'lama', 'dog', 'cure', 'ruff', 'time', 'came', 'sunday', 'man', 'wa', 'fun', 'selection', 'wa', 'try', 'sampler', 'getting', 'nice', 'pint', 'cup', 'little', 'small', 'usual', 'cup', 'good', 'selection', 'beer', 'spin', 'ball', 'number', 'land', 'number', 'happen', 'number', 'beer', 'selection', 'menu', 'dollar', 'genius', 'technique', 'nice', 'tap', 'selection'], ['new', 'hot', 'funk', 'zone', 'open', 'weekend', 'place', 'wa', 'slam', 'packed', 'thirsty', 'customer', 'lama', 'dog', 'ha', 'revolving', 'beer', 'tap', 'telegraph', 'island', 'brewery', 'lost', 'abbey', 'serve', 'wine', 'bar', 'serf', 'inside', 'outside', 'window', 'nice', 'patio', 'large', 'screen', 'tv', 'ton', 'bottle', 'beer', 'choice', 'plus', 'nook', 'ha', 'space', 'building', 'serf', 'food', 'tried', 'housemade', 'brat', 'wa', 'good', 'buzzer', 'drinking', 'beer', 'grab', 'food', 'ready', 'definitely', 'new', 'stop', 'anchor', 'far', 'funk', 'zone'], ['friday', 'night', 'exceptionally', 'busy', 'niko', 'cute', 'female', 'bartender', 'wa', 'fantastic', 'grapefruit', 'good', 'bit', 'sweet', 'coronado', 'pumpkin', 'beer', 'wa', 'delicious', 'food', 'wa', 'super', 'good', 'albeit', 'bit', 'pricey', 'burger', 'wa', 'delicious', 'bun', 'wa', 'bit', 'soggy', 'parm', 'garlic', 'fry', 'yummy', 'pretzel', 'wa', 'ok', 'skip', 'brew', 'beer', 'tap', 'average', 'price', 'food', 'dog', 'friendly', 'buy', 'bottle', 'shop', 'return'], ['good', 'stuff', 'got', 'early', 'spot', 'flyer', 'ginger', 'beer', 'awesome', 'refreshing', 'alcohol', 'double', 'hop', 'ipa', 'wa', 'good', 'try', 'commit', 'drink', 'staff', 'friendly', 'place', 'casual'], ['neat', 'little', 'spot', 'funk', 'zone', 'great', 'beer', 'atmosphere', 'didn', 'stay', 'long', 'try', 'enjoy'], ['great', 'great', 'great', 'great', 'selection', 'beer', 'bottle', 'tap', 'great', 'cool', 'vibe', 'big', 'bar', 'area', 'indoor', 'seating', 'outdoor', 'fresh', 'open', 'great', 'service', 'especially', 'manage', 'ally', 'working', 'know', 'good', 'day', 'sure', 'll', 'love'], ['location', 'layout', 'fantastic', 'little', 'weekend', 'vacation', 'nice', 'm', 'light', 'beer', 'lady', 'didn', 'feel', 'like', 'ton', 'tap', 'choice', 'flight', 'day', 'love', 'atmosphere', 'service', 'great', 'hubby', 'loved', 'stout', 'sour', 'selection', 'recommended', 'u', 'good', 'friend', 'wa', 'excellent'], ['casual', 'food', 'joint', 'heart', 'funk', 'zone', 'pretty', 'good', 'food', 'cool', 'atmosphere', 'surrounded', 'brewery', 'drinking', 'convenient', 'hah', 'food', 'star', 'pork', 'belly', 'quesadilla', 'star', 'grilled', 'fish', 'taco', 'people', 'eating', 'big', 'burger', 'm', 'guessing', 'try', 'time', 'come', 'early', 'beat', 'crowd', 'line'], ['feel', 'like', 'need', 'friend', 'bartender', 'priority', 'service', 'wa', 'minute', 'mom', 'dad', 'bar', 'bartender', 'stopped', 'chatting', 'buddy', 'notice', 'sitting', 'wine', 'selection', 'limited', 'choice', 'drink', 'red', 'vibe', 'relaxed', 'fun', 'kind', 'feel', 'like', 'clubhouse', 'newcomer', 'annoyance', 'welcomed', 'regular', 'sat', 'bar', 'turned', 'group', 'friend', 'nearly', 'pushed', 'seat', 'spread', 'arm', 'comfortable', 'nearly', 'spilling', 'drink', 'actually', 'turned', 'head', 'look', 'snorted', 'like', 'wa', 'way', 'proceeded', 'spread', 'forcing', 'scoot', 'chair', 'think', 'wa', 'nasty', 'family', 'bully', 'national', 'lampoon', 'series', 'person', 'belong', 'clubhouse', 'got', 'service', 'instantly', 'took', 'seat', 'lama', 'dog', 'turning', 'clique', 'marketing', 'antithesis', 'clique', 'feel', 'like', 'reality', 'craft', 'brew', 'house', 'judging', 'clientele', 'liking', 'chardonnay'], ['ha', 'recently', 'gotten', 'microbrewery', 'craft', 'beer', 'beer', 'tap', 'pretty', 'average', 'exciting', 'potential', 'happening', 'wasn', 'impressed', 'current', 'selection', 'point', 'thoroughly', 'enjoyed', 'experience', 'lama', 'dog', 'went', 'wa', 'packed', 'good', 'thing', 'staff', 'great', 'job', 'moving', 'getting', 'atmosphere', 'lively', 'fun', 'plenty', 'room', 'fit', 'long', 'table', 'seating', 'seating', 'bar', 'outside', 'patio', 'area', 'decorated', 'didn', 'try', 'food', 'heard', 'great', 'thing', 'favorite', 'thing', 'place', 'walk', 'fridge', 'great', 'beer', 'selection', 'saw', 'parabola', 'firestone', 'box', 'said', 'weren', 'allowed', 'purchase', 'don', 'think', 'allowed', 'hoard', 'beer', 'isn', 'illegal', 'wa', 'confusion', 'staff', 'member', 'great', 'craft', 'beer', 'microbrewery', 'purchase', 'weird', 'hiccup', 'enjoy', 'lama', 'dog', 'recommend', 'looking', 'good', 'time', 'drop', 'j'], ['wa', 'cool', 'place', 'wa', 'casual', 'upbeat', 'relaxing', 'bartender', 'great', 'attitude', 'feel', 'welcomed', 'love', 'beer', 'place', 'huge', 'selection', 'including', 'beer', 'world', 'purchase', 'beer', 'home', 'enjoy', 'beer', 'wine', 'watch', 'big', 'screen', 'tv', 'order', 'food', 'nook', 'located', 'inside', 'lama', 'dog', 'great', 'spot', 'meet', 'greet', 'friend', 'family', 'grab', 'beer', 'burger', 'relax', 'outside', 'patio', 'inside', 'watching', 'tv'], ['loved', 'patio', 'didn', 'feel', 'crowded', 'inside', 'large', 'selection', 'll', 'happy', 'coming', 'food', 'kitchen', 'close', 'doe', 'hot', 'plan', 'ahead'], ['came', 'saturday', 'afternoon', 'place', 'wa', 'pretty', 'busy', 'great', 'energy', 'service', 'atmosphere', 'bouncer', 'server', 'warm', 'friendly', 'maybe', 'm', 'friendly', 'california', 'people', 'year', 'east', 'coast', 'chicago', 'customer', 'service', 'space', 'pretty', 'cute', 'long', 'patio', 'outside', 'open', 'communal', 'table', 'inside', 'food', 'drink', 'wine', 'friend', 'multiple', 'round', 'beer', 'm', 'assuming', 'good', 'ordered', 'lobster', 'mac', 'cheese', 'maybe', 'ordered', 'don', 'judge', 'u', 'truffle', 'fry', 'pork', 'belly', 'quesadilla', 'mac', 'cheese', 'wa', 'tasty', 'cheesy', 'lot', 'lobster', 'pork', 'belly', 'quesadilla', 'delicious', 'course', 'appreciated', 'little', 'pork', 'belly', 'fry', 'solid', 'choice', 'rich', 'food', 'kind', 'blended', 'background', 'tipsy', 'memory', 'overall', 'great', 'lively', 'space', 'good', 'food', 'def', 'sample', 'food', 'beer'], ['lunch', 'beer', 'loved', 'food', 'available', 'nook', 'located', 'right', 'inside', 'great', 'menu', 'delicious', 'food', 'excellent', 'beer', 'list', 'constantly', 'changing', 'delicious', 'sour', 'rhubarb', 'wa', 'fantastic', 'love', 'logo', 'cute', 'great', 'atmosphere', 'awesome', 'place', 'drink', 'time', 'day'], ['love', 'ambiance', 'vibe', 'place', 'crowded', 'dozen', 'u', 'hovered', 'cocktail', 'table', 'food', 'nook', 'wa', 'kinda', 'pricey', 'portion', 'truffle', 'fry', 'pretty', 'decent', 'modern', 'time', 'wheat', 'ale', 'wa', 'okay', 'price', 'steep', 'considering', 'small', 'glass', 'come', 'environment', 'minus', 'crowd', 'drink', 'decent'], ['friend', 'stopped', 'late', 'afternoon', 'drink', 'snack', 'located', 'funk', 'zone', 'shared', 'drink', 'food', 'vendor', 'wa', 'hopping', 'place', 'pun', 'intended', 'people', 'pooch', 'sat', 'outside', 'bar', 'bartender', 'wa', 'attentive', 'craft', 'beer', 'selection', 'wa', 'quit', 'extensive', 'glass', 'cute', 'beer', 'tasted', 'good', 'wow', 'especially', 'wow', 'charge', 'oskar', 'blue', 'dale', 'pale', 'ale', 'window', 'summer', 'saison', 'atmosphere', 'fun', 'lively', 'bar', 'service', 'good', 'beer', 'good', 'overpriced'], ['great', 'beer', 'selection', 'pricey', 'green', 'star', 'lama', 'dog', 'beer', 'tap', 'visited', 'tried', 'oz', 'pours', 'note', 'translates', 'pint', 'oz', 'pour', 'figueroa', 'mountain', 'brewing', 'street', 'nice', 'wa', 'bit', 'cheaper', 'flight', 'deal', 'le', 'island', 'hop', 'hefner', 'hefeweizen', 'decent', 'hefe', 'special', 'dozer', 'brown', 'american', 'brown', 'ale', 'goleta', 'rich', 'tasty', 'perfect', 'small', 'pour', 'ginger', 'lime', 'rosehip', 'san', 'diego', 'great', 'choice', 'hot', 'day', 'highly', 'recommended', 'lost', 'abbey', 'lost', 'found', 'dubbel', 'raisin', 'san', 'marcos', 'recommended', 'truffle', 'parmesan', 'fry', 'nook', 'admit', 'worth', 'day', 'overall', 'staff', 'member', 'busy', 'fairly', 'friendly', 'alleyway', 'ha', 'nice', 'outdoor', 'seating', 'definitely', 'worth', 'visit', 'interesting', 'beer', 'selection', 'change', 'frequently', 'm', 'giving', 'lama', 'dog', 'green', 'star', 'social', 'environmental', 'impact', 'based', 'reason', 'beer', 'tap', 'california', 'state', 'overseas', 'walk', 'cold', 'room', 'sound', 'like', 'energy', 'hog', 'hope', 'solar', 'panel', 'beer', 'tried', 'think', 'stand', 'social', 'environmental', 'impact', 'actually', 'alcoholic', 'kombucha', 'locally', 'sourced', 'organic', 'ingredient', 'donate', 'proceeds', 'local', 'charity', 'related', 'sustainable', 'food', 'overall', 'glad', 'introduced', 'new', 'sustainable', 'brewery', 'lama', 'dog', 'find', 'green', 'star', 'thing', 'green', 'star', 'project', 'dot', 'org'], ['great', 'service', 'sunday', 'thank', 'sweet', 'right', 'pretty', 'competitively', 'priced'], ['exploring', 'santa', 'barbara', 'funk', 'zone', 'walked', 'lama', 'dog', 'immediately', 'drawn', 'based', 'logo', 'gotta', 'applaud', 'marketing', 'medium', 'sized', 'wa', 'displayed', 'multiple', 'area', 'didn', 'find', 'sound', 'good', 'refrigerator', 'beer', 'cider', 'alcoholic', 'kombucha', 'purpose', 'find', 'surprising', 'wasn', 'local', 'choosing', 'beverage', 'sat', 'outside', 'enjoyed', 'ambiance', 'dog', 'allowed', 'wa', 'able', 'dog', 'watch', 'people', 'watch', 'enjoyed', 'beer', 'little', 'patio', 'bar', 'relaxing', 'perfect', 'enjoy', 'nice', 'sunny', 'santa', 'barbara', 'day'], ['great', 'place', 'hang', 'friend', 'lot', 'outdoor', 'seating', 'heat', 'lamp', 'beer', 'tap', 'ton', 'bottle', 'option', 'cold', 'room', 'lot', 'local', 'beer', 'cider', 'tried', 'japas', 'taiyaki', 'beer', 'wa', 'smooth', 'rich', 'imperial', 'stout', 'chocolate', 'caramel', 'note'], ['good', 'stuff', 'got', 'early', 'spot', 'flyer', 'ginger', 'beer', 'awesome', 'refreshing', 'alcohol', 'double', 'hop', 'ipa', 'wa', 'good', 'try', 'commit', 'drink', 'staff', 'friendly', 'place', 'casual'], ['ld', 'ha', 'alcoholic', 'kombucha', 'tap', 'flavor', 'update', 'kombucha', 'flavor', 'bottle', 'sale', 'walk', 'fridge', 'awesome', 'stopped', 'bar', 'hop', 'past', 'friday', 'evening', 'place', 'visited', 'llama', 'dog', 'helpful', 'friendly', 'staff', 'gave', 'free', 'taster', 'taught', 'decide', 'palette', 'want', 'based', 'day', 'activity', 'food', 'consumption', 'wa', 'extremely', 'packed', 'treated', 'customer', 'proper', 'value', 'kindness', 'ended', 'purchasing', 'wa', 'light', 'summer', 'beer', 'locally', 'brewed', 'santa', 'barbara', 'county', 'wa', 'greatest', 'beer', 've', 'wa', 'process', 'staff', 'took', 'time', 'cherry', 'jenga', 'awesome', 'board', 'game', 'counter', 'space', 'walk', 'fridge'], ['stopped', 'recently', 'town', 'grab', 'beer', 'lama', 'dog', 'doesn', 'brew', 'nice', 'selection', 'craft', 'beer', 'tap', 'bottle', 'grab', 'seat', 'bottle', 'selection', 'pretty', 'extensive', 'able', 'find', 'like', 'hard', 'stuff', 'room', 'don', 'shelf', 'small', 'patio'], ['lama', 'dog', 'friend', 'college', 'introduced', 'place', 've', 'adored', 'warehouse', 'converted', 'bar', 'serf', 'wine', 'beer', 'delicious', 'food', 'ha', 'great', 'hipster', 'vibe', 'inside', 'outside', 'seating', 'selection', 'wine', 'beer', 'expansive', 'enjoy', 'sour', 'beer', 'fantastic', 'sour', 'food', 'going', 'delicious', 've', 'turkey', 'burger', 'truffle', 'fry', 'brussels', 'sprout', 'item', 'remember', 'matter', 'order', 'absolutely', 'great', 'quality', 'day', 'highly', 'recommend', 'food', 'definitely', 'fun', 'artsy', 'food', 'experience', 'come', 'sb', 'trying'], ['hearing', 'coworkers', 'rave', 'place', 'wa', 'finally', 'able', 'stop', 'saturday', 'wa', 'popping', 'wa', 'hard', 'navigate', 'find', 'seating', 'wa', 'crowded', 'finally', 'settled', 'small', 'standing', 'area', 'got', 'beer', 'lobster', 'mac', 'cheese', 'big', 'pretzel', 'beer', 'delicious', 'affordable', 'pretzel', 'looked', 'delicious', 'taste', 'wa', 'disappointing', 'dough', 'wasn', 'dough', 'like', 'pretzel', 'instead', 'tasted', 'like', 'dry', 'regularly', 'white', 'bread', 'mustard', 'wa', 'yummy', 'lobster', 'mac', 'cheese', 'wa', 'disappointing', 'flavor', 'underwhelming', 'maybe', 'got', 'wrong', 'food', 'choice', 'maybe', 'nook', 'wa', 'having', 'bad', 'cook', 'day', 'll', 'try', 'burger', 'taco', 'come', 'beer', 'sure', 'beer', 'star', 'food', 'star', 'atmosphere', 'star'], ['amazing', 'selection', 'beer', 'wine', 'solid', 'pub', 'food', 'happened', 'taproom', 'exploring', 'area', 'happily', 'surprised', 'selection', 'beer', 'available', 'tap', 'bottled', 'wa', 'traveling', 'wine', 'snob', 'fact', 'carried', 'solid', 'selection', 'wine', 'place', 'crowd', 'pleaser', 'ordered', 'spicy', 'lobster', 'mac', 'cheese', 'share', 'lager', 'belgian', 'ale', 'wash', 'beer', 'wa', 'refreshing', 'little', 'unremarkable', 'pub', 'food', 'worth', 'fun', 'place', 'stop', 'drink', 'appetizer'], ['awesome', 'beer', 'better', 'vibe', 'solid', 'food', 'came', 'drink', 'watch', 'nba', 'playoff', 'delighted', 'choice', 'beer', 'wa', 'recommended', 'u', 'team', 'working', 'tuesday', 'night', 'kinder', 'friendly', 'aura', 'lama', 'dog', 'tap', 'room', 'chill', 'relaxing', 'fun', 'great', 'spot', 'hang', 'enjoy', 'tasty', 'beverage', 'food', 'elevated', 'bar', 'food', 'bar', 'food', 'come', 'drink', 'people'], ['beautiful', 'space', 'great', 'tap', 'selection', 'friendly', 'staff', 'comfortable', 'environment', 'unsurprisingly', 'dog', 'friendly', 'stopped', 'vacation', 'wa', 'drawn', 'missing', 'dog', 'home', 'great', 'place', 'visit', 'dog', 'fix'], ['great', 'overall', 'experience', 'time', 'plenty', 'variety', 'craft', 'beer', 'option', 'kitchen', 'menu', 'food', 'separate', 'order', 'pay', 'perfect', 'grabbing', 'appetizer', 'meal', 'cold', 'indoor', 'outdoor', 'patio', 'small', 'good', 'dog', 'seating', 'perfect', 'casual', 'spot', 'togethers', 'bonus', 'wa', 'order', 'food', 'takeout', 'enjoy', 'door', 'topa', 'topa', 'brewery', 'bring', 'beer', 'lama', 'ha', 'lot', 'craft', 'brew', 'wasn', 'super', 'hungry', 'ordered', 'couple', 'appetizer', 'share', 'regular', 'menu', 'highly', 'recommend', 'sausage', 'bite', 'combination', 'house', 'bratwurst', 'fennel', 'sausage', 'wa', 'served', 'brown', 'spicy', 'mustard', 'light', 'chipotle', 'style', 'pickle', 'dip', 'meat', 'tasty', 'dipping', 've', 'eaten', 'plate', 'ordered', 'pork', 'belly', 'quesadilla', 'tasty', 'shredded', 'pork', 'cheese', 'grilled', 'tortilla', 'served', 'light', 'bed', 'shredded', 'veggie', 'pico', 'drizzled', 'combination', 'avocado', 'cream', 'chipotle', 'sauce', 'good', 'unfortunately', 'crab', 'cake', 'll', 'try', 'time', 'check', 'lama', 'dog', 'funk', 'zone', 'ventura', 'area', 'worth', 'visit', 'meal', 'cost', 'wa', 'reasonable', 'plus', 'drink', 'enjoy'], ['place', 'great', 'environment', 'staff', 'wa', 'friendly', 'helpful', 'wa', 'place', 'started', 'wine', 'tasting', 'day'], ['place', 'awesome', 'lower', 'santa', 'barbara', 'street', 'area', 'suspect', 'restaurant', 'like', 'cool', 'ambiance', 'ton', 'beer', 'selection', 'outdoor', 'seating', 'sun', 'community', 'style', 'seating', 'inside', 'long', 'wooden', 'table', 'food', 'awesome', 'hamburger', 'wa', 'absolutely', 'delicious', 'hamburger', 'bun', 'great', 'fresh', 'ingredient', 'truffle', 'fry', 'die', 'ill', 'fry', 'beer', 'highly', 'recommend', 'sweet', 'people', 'working'], ['lama', 'dog', 'ha', 'amazing', 'neighborhood', 'atmosphere', 'long', 'communal', 'high', 'table', 'seating', 'outside', 'time', 'visited', 'lama', 'dog', 'tap', 'room', 'wa', 'packed', 'standing', 'room', 'good', 'sign', 'lama', 'dog', 'offer', 'terrific', 'selection', 'bottled', 'canned', 'beer', 'hard', 'kombucha', 'cider', 'visited', 'year', 'ago', 'bought', 'couple', 'pack', 'coveted', 'victory', 'brewing', 'golden', 'monkey', 'ala', 'today', 'lot', 'choice', 'note', 'end', 'having', 'bottled', 'canned', 'drink', 'premise', 'corkage', 'fee', 'highlight', 'draft', 'menu', 'today', 'russian', 'river', 'pliny', 'elder', 'fremont', 'rusty', 'nail', 'great', 'selection', 'lot', 'high', 'percentage', 'abv', 'choice', 'wa', 'sour', 'beer', 'option', 'gluten', 'free', 'option', 'menu', 'wa', 'hard', 'kombucha'], ['great', 'new', 'spot', 'funk', 'zone', 'incredible', 'bottle', 'beer', 'selection', 'purchase', 'open', 'premise', 'nice', 'rotating', 'tap', 'selection', 'little', 'restaurant', 'inside', 'called', 'nook', 'food', 'definitely', 'great', 'spot', 'come', 'check', 'great', 'attentive', 'service', 'knowledgeable', 'friendly', 'staff', 'great', 'vibe', 'place'], ['visited', 'lama', 'dog', 'tap', 'room', 'family', 'santa', 'barbara', 'sister', 'brother', 'law', 'like', 'place', 'visited', 'entire', 'walk', 'fridge', 'selection', 'beer', 'addition', 'tap', 'm', 'beer', 'drinker', 'family', 'luckily', 'mexican', 'bottled', 'coke', 'lama', 'dog', 'share', 'space', 'nook', 'sell', 'food', 'limited', 'bar', 'area', 'seating', 'indoors', 'outdoor', 'seating'], ['im', 'glad', 'came', 'sb', 'weekend', 'stopped', 'old', 'joint', 'lama', 'dog', 'open', 'jumping', 'business', 'great', 'wa', 'worried', 'place', 'wouldn', 'threw', 'pandemic', 'great', 'cider', 'great', 'patio', 'social', 'distance'], ['wa', 'recommended', 'friend', 'good', 'spot', 'beer', 'small', 'patio', 'super', 'cute', 'dog', 'friendly', 'kitchen', 'inside', 'called', 'nook', 'didn', 'try', 'look', 'great', 'wa', 'busy', 'hectic', 'inside', 'good', 'variety', 'beer', 'tried', 'cider', 'enjoyed', 'cool', 'spot', 'beer', 'sure'], ['great', 'place', 'beer', 'nook', 'attached', 'hip', 'food', 'wa', 'point', 'got', 'couple', 'red', 'beer', 'followed', 'elizabeth', 'blackened', 'rock', 'fish', 'soft', 'taco', 'cabbage', 'salsa', 'avocado', 'queso', 'fresco', 'chipotle', 'mayonnaise', 'served', 'corn', 'tortilla', 'come', 'order', 'nook', 'burger', 'med', 'rare', 'ground', 'chuck', 'tenderloin', 'patty', 'bacon', 'jam', 'tomato', 'pickle', 'swiss', 'cheese', 'special', 'house', 'sauce', 'best', 'burger', 'met', 'friend', 'sb', 'buggie', 'ride', 'lunch', 'ride', 'great', 'spot', 'feast', 'exhilarating', 'ride', 'santa', 'barbara'], ['great', 'place', 'relax', 'grab', 'drink', 'socialize', 'fun', 'lama', 'dog', 'room', 'string', 'tap', 'room', 'wine', 'bar', 'santa', 'barbara', 'street', 'seating', 'inside', 'food', 'stall', 'order', 'bar', 'style', 'food', 'burger', 'fry', 'salad', 'etc', 'albeit', 'pricey', 'wide', 'range', 'drink', 'beer', 'wine', 'alcoholic', 'kombucha', 'local', 'origin', 'menu', 'rotates', 'pretty', 'like', 'choice', 'ordering', 'taster', 'size', 'drink', 'looking', 'try', 'drink', 'hop', 'try', 'tap', 'room', 'street', 'plus', 'large', 'fridge', 'filled', 'robust', 'selection', 'assorted', 'wine', 'canned', 'bottled', 'beer', 'want', 'buy', 'overall', 'highly', 'recommend', 'lama', 'dog', 'love', 'try', 'different', 'type', 'beer'], ['love', 'visiting', 'lama', 'dog', 'm', 'looking', 'great', 'beer', 'town', 'wide', 'selection', 'beer', 'brewery', 'locally', 'brewery', 'town', 'country', 'changing', 'beer', 'everytime', 'come', 'don', 'beer', 'wide', 'selection', 'ipa', 'sour', 'amber', 'lager', 'wine', 'non', 'alcoholic', 'option', 'place', 'good', 'time', 'super', 'busy', 'sure', 'grab', 'seat', 'find', 'service', 'great', 'busy', 'nice', 'able', 'open', 'tab', 'small', 'outdoor', 'area', 'dog', 'friendly', 'able', 'bring', 'dog', 'lama', 'dog', 'connected', 'nook', 'food', 'ton', 'delicious', 'food', 'option', 'choose', 'taco', 'flatbread', 'tater', 'tot', 'burger', 'mac', 'cheese', 'delicious', 'tasty', 'food', 'choice', 'lama', 'dog', 'connected', 'topa', 'topa', 'brewery', 'waterline', 'area', 'aren', 'allowed', 'bring', 'beer', 'lama', 'dog', 'brewery', 'bring', 'food', 'nook', 'overall', 'love', 'coming', 'trying', 'tasty', 'delicious', 'selection', 'beer', 'wait', 'come', 'soon'], ['speak', 'beer', 'speak', 'ambiance', 'love', 'dog', 'friendly', 'patio', 'bring', 'pup', 'allow', 'dog', 'inside', 'love', 'order', 'food', 'nook', 'enjoying', 'drink', 'lama', 'dog', 'unfortunately', 'drink', 'beer', 'wine', 'tap', 'wine', 'bottle', 'brewery', 'wine', 'definitely', 'appreciate', 'having', 'option'], ['place', 'good', 'craft', 'beer', 'tasty', 'food', 'burger', 'wa', 'good', 'fish', 'taco', 'loved', 'got', 'dog', 'fish', 'head', 'red', 'white', 'husband', 'got', 'drake', 'aroma', 'coma', 'good', 'sb', 'definitely', 'sweet', 'spot'], ['love', 'lama', 'dog', 'fantastic', 'addition', 'funk', 'zone', 'ambiance', 'cool', 'casual', 'open', 'layout', 'quaint', 'outside', 'patio', 'ton', 'beer', 'tap', 'huge', 'selection', 'beer', 'world', 'purchase', 'bottle', 'delicious', 'recommend', 'grapefruit', 'm', 'big', 'fan', 'bourbon', 'barrel', 'aged', 'brew', 'tap', 'prefer', 'sit', 'bar', 'long', 'community', 'table', 'perfect', 'people', 'party', 'tv', 'tuned', 'sport', 'station', 'good', 'music', 'playing', 'background', 'drink', 'appetite', 'order', 'food', 'nook', 'located', 'inside', 'lama', 'dog', 'place', 'packed', 'staff', 'encountered', 'game', 'providing', 'recommendation', 'description', 'beer', 'attentive', 'service', 'important', 'genuine', 'smile', 'long', 'way', 'certainly', 'regular', 'watering', 'hole', 'feel', 'little', 'like', 'm', 'cheating', 'figueroa', 'mountain', 'brew', 'co'], ['yes', 'lama', 'dog', 'tap', 'room', 'safely', 'open', 'takeout', 'stopped', 'check', 'supply', 'beer', 'disappointed', 'great', 'variety', 'great', 'service', 'educated', 'history', 'beer', 'try', 'different', 'stop', 'step', 'box', 'enjoy', 'carried', 'away', 'different', 'variety', 'try', 'carry', 'away', 'stop', 'beach', 'little', 'food', 'find', 'quiet', 'sunny', 'spot', 'great', 'treat'], ['didn', 'trip', 'min', 'closing', 'told', 'u', 'closed', 'customer', 'thought', 'going', 'welcome', 'u', 'smiled', 'u', 'arrived', 'decided', 'come', 'day', 'came', 'tuesday', 'good', 'variety', 'beer', 'choose', 'chile', 'guava', 'apple', 'cider', 'wa', 'good', 'outdoor', 'indoor', 'seating', 'parking', 'street', 'small', 'parking', 'lot', 'area', 'limit', 'hour'], ['lama', 'dog', 'good', 'time', 'great', 'spot', 'big', 'garage', 'door', 'opening', 'pet', 'friendly', 'awesome', 'draft', 'beer', 'list', 'big', 'great', 'local', 'option', 'santa', 'maria', 'woot', 'course', 'sharing', 'spot', 'nook', 'topa', 'topa', 'door', 'place', 'spend', 'hour'], ['awesome', 'spot', 'beer', 'lama', 'dog', 'restored', 'waterline', 'building', 'funk', 'zone', 'feel', 'able', 'modernize', 'building', 'keeping', 'funk', 'alive', 'win', 'book', 'taproom', 'large', 'wraparound', 'bar', 'abundance', 'seating', 'narrow', 'adjacent', 'patio', 'main', 'bar', 'wrapping', 'love', 'design', 'venue', 'connected', 'nook', 'restaurant', 'convenient', 'place', 'doesn', 'brew', 'beer', 'doe', 'offer', 'wide', 'variety', 'brew', 'type', 'palette', 'rotating', 'tap', 'sort', 'set', 'contribute', 'portion', 'nonprofit', 'month', 'feel', 'rewarding', 'effortless', 'local', 'community', 'enjoying', 'great', 'beer', 'love', 'haven', 'start', 'seen', 've', 'expanded', 'outdoor', 'seating', 'option', 'include', 'area', 'hope', 'soon'], ['line', 'giant', 'amazing', 'burger', 'huge', 'selection', 'beer', 'nofx', 'cranked', 'friendly', 'people', 'working', 'way', 'star', 'time', 'food', 'review', 'time', 'lama', 'burger', 'wa', 'awesome', 'skimmed', 'chile', 'menu', 'bit', 'burger', 'wa', 'chile', 'knew', 'people', 'actually', 'read', 'menu', 'wa', 'great', 'intentionally', 'skipped', 'breakfast', 'tiny', 'lunch', 'order', 'ready', 'wa', 'fry', 'great', 'wa', 'hot', 'service', 'wa', 'good', 'staff', 'polite', 'rule', 'left', 'little', 'annoyed', 'wa', 'little', 'busy', 'wait', 'wa', 'skipped', 'meal', 'day', 'work', 'server', 'funk', 'zone', 'completely', 'understand', 'protect', 'specifically', 'worker', 'best', 'respect', 'rule', 'liked', 'place', 'oh', 'mention', 'playing', 'nofx', 'night', 'yes', 'yes'], ['fun', 'spot', 'grab', 'beer', 'funk', 'zone', 'atmosphere', 'chill', 'good', 'beer', 'selection', 'crowded', 'inside', 'outdoor', 'patio', 'nice', 'don', 'brew', 'beer', 'good', 'beer', 'tap', 'canned', 'beer', 'bring', 'home', 'nice', 'selection', 'wine', 'price', 'pretty', 'reasonable', 'haven', 'tried', 'food', 'maybe', 'time', 'm', 'area', 'love', 'bar', 'dog', 'friendly'], ['lama', 'dog', 'pretty', 'cool', 'location', 'm', 'assuming', 'funk', 'zone', 'area', 'sb', 'yes', 've', 'lived', 'sb', 'year', 'entirely', 'sure', 'encompasses', 'funk', 'zone', 'line', 'wa', 'little', 'ridiculous', 'course', 'entirely', 'normal', 'friday', 'night', 'bouncer', 'wa', 'night', 'super', 'friendly', 'professional', 'promote', 'let', 'u', 'stood', 'fairly', 'long', 'line', 'food', 'ended', 'getting', 'lobster', 'mac', 'cheese', 'regular', 'fry', 'caramel', 'smore', 'pie', 'lobster', 'mac', 'cheese', 'wa', 'tasty', 'creamy', 'strong', 'lobster', 'taste', 'fry', 'came', 'crispy', 'hot', 'seasoned', 'important', 'caramel', 'smore', 'pie', 'oh', 'goodness', 'wa', 'decadent', 'flavorful', 'm', 'drooling', 'thinking', 'totally', 'rich', 'consider', 'sneaking', 'flask', 'milk', 'ambiance', 'outside', 'loud', 'obnoxious', 'wouldn', 'friday', 'night', 'inside', 'fairly', 'spacious', 'want', 'change', 'topa', 'topa', 'right', 'door'], ['woo', 'hoo', 'dog', 'friendly', 'place', 'imbibe', 'dog', 'technically', 'relegated', 'narrow', 'patio', 'area', 'relative', 'chaos', 'depending', 'number', 'size', 'demeanor', 'aforementioned', 'canine', 'group', 'people', 'smuggle', 'husky', 'inside', 'taproom', 'brewery', 'ha', 'prolific', 'selection', 'beer', 'cider', 'kombucha', 'available', 'taste', 'pour', 'interior', 'lead', 'topa', 'topa', 'brewery', 'wine', 'tasting', 'room', 'place', 'middle', 'sweet', 'establishment', 'cranking', 'french', 'fry', 'taco', 'like']]\n",
            "3530\n",
            "nReviews:  53845\n",
            "1036\n",
            "nReviews:  52871\n"
          ]
        }
      ],
      "source": [
        "import json\n",
        "import numpy as np\n",
        "import pandas as pd\n",
        "import os\n",
        "import csv\n",
        "import spacy\n",
        "import nltk\n",
        "import re\n",
        "from nltk.stem import WordNetLemmatizer\n",
        "stemmer = WordNetLemmatizer()\n",
        "nltk.download('wordnet')\n",
        "nltk.download('omw-1.4')\n",
        "nlp = spacy.load(\"en_core_web_sm\")\n",
        "\n",
        "reviewMap = {}\n",
        "i = 0\n",
        "with open(\"drive/MyDrive/Data_Final\", \"r\", encoding=\"UTF-8\") as f:\n",
        "  f = csv.reader(f)\n",
        "  for line in f:\n",
        "    if i == 0:\n",
        "      i = 1\n",
        "      continue\n",
        "    review = line[7]\n",
        "    id = line[2]\n",
        "    if(id in reviewMap):\n",
        "      reviewMap[id].append(review)\n",
        "    else:\n",
        "      reviewMap[id] = [review]\n",
        "\n",
        "print(len(reviewMap))\n",
        "\n",
        "# clean words\n",
        "def process(document):\n",
        "  stopWords = nlp.Defaults.stop_words\n",
        "  # Remove all the special characters, like parathesis\n",
        "  document = re.sub(r'\\W', ' ', document)\n",
        "  # remove all single characters: like a, b, c, d\n",
        "  document = re.sub(r'\\s+[a-zA-Z]\\s+', ' ', document)\n",
        "  # Remove single characters from the start\n",
        "  document = re.sub(r'\\^[a-zA-Z]\\s+', ' ', document)\n",
        "  # Substituting multiple spaces with single space\n",
        "  document = re.sub(r'\\s+', ' ', document, flags=re.I)\n",
        "  # Removing prefixed 'b'\n",
        "  document = re.sub(r'^b\\s+', '', document)\n",
        "  # Lower case\n",
        "  document = document.lower()\n",
        "  # Lemmatization\n",
        "  document = document.split()\n",
        "  document = [stemmer.lemmatize(word) for word in document]\n",
        "  # Remove stop words\n",
        "  document = [word for word in document if word not in stopWords]\n",
        "  # Remove words that aren't in the embedding dictionary\n",
        "  document = [word for word in document if word in glove_vectors]\n",
        "  return document\n",
        "\n",
        "print(list(reviewMap.values())[5])\n",
        "\n",
        "for k in reviewMap.copy():\n",
        "  textList = list(reviewMap[k])\n",
        "  newList = []\n",
        "  for text in textList:\n",
        "    document = process(str(text))\n",
        "    newList.append(document)\n",
        "  reviewMap[k] = newList\n",
        "\n",
        "print(list(reviewMap.values())[5])\n",
        "\n",
        "nReviews = 0\n",
        "\n",
        "# remove all reviews with less than 10 tokens\n",
        "for k in reviewMap.copy():\n",
        "  textList = list(reviewMap[k])\n",
        "  newList = []\n",
        "  for n in range(len(textList)):\n",
        "    nReviews += 1\n",
        "    if len(textList[n]) >= 10:\n",
        "      newList.append(textList[n])\n",
        "  reviewMap[k] = newList\n",
        "\n",
        "print(len(reviewMap))\n",
        "\n",
        "print('nReviews: ', nReviews)\n",
        "nReviews = 0\n",
        "\n",
        "# remove all businesses with less than 10 reviews \n",
        "for key, val in reviewMap.copy().items():\n",
        "  nReviews += len(val)\n",
        "  if len(val) < 10:\n",
        "    del reviewMap[key]\n",
        "\n",
        "\n",
        "print(len(reviewMap))\n",
        "\n",
        "print('nReviews: ', nReviews)\n",
        "\n"
      ]
    },
    {
      "cell_type": "markdown",
      "source": [
        "Word embeddings"
      ],
      "metadata": {
        "id": "rfTCvlfMGfNG"
      }
    },
    {
      "cell_type": "markdown",
      "source": [
        "Gradient Boosting"
      ],
      "metadata": {
        "id": "lsw0IPqjGivm"
      }
    },
    {
      "cell_type": "markdown",
      "source": [
        "Preparing for training"
      ],
      "metadata": {
        "id": "S6wEp6lhIBCv"
      }
    },
    {
      "cell_type": "code",
      "source": [
        "\n",
        "lenArr = []\n",
        "for arr in list(reviewMap.values()):\n",
        "  for text in arr:\n",
        "    lenArr.append(len(text))\n",
        "print(np.min(lenArr))\n",
        "\n",
        "\n",
        "keyMap = {}\n",
        "xData = []\n",
        "yData = []\n",
        "i = 0\n",
        "for key in reviewMap.keys():\n",
        "  # save key\n",
        "  keyMap[i] = key\n",
        "  # embed\n",
        "  for review in reviewMap[key]:\n",
        "    # average all the words\n",
        "    conglomerate = np.zeros(50)\n",
        "    for word in review:\n",
        "      conglomerate = np.add(conglomerate, glove_vectors[word])\n",
        "    conglomerate = np.divide(conglomerate, np.ones_like(conglomerate)*len(review))\n",
        "    yData.append(i)\n",
        "    xData.append(conglomerate)\n",
        "  i += 1\n",
        "\n",
        "\n",
        "print(xData[1])\n",
        "\n"
      ],
      "metadata": {
        "colab": {
          "base_uri": "https://localhost:8080/"
        },
        "id": "xX5V7BXSGphX",
        "outputId": "39083d91-b8f4-4119-a9a0-96c6684ba62e"
      },
      "execution_count": null,
      "outputs": [
        {
          "output_type": "stream",
          "name": "stdout",
          "text": [
            "10\n",
            "[ 1.36409922e-03 -4.49404899e-01  6.83623794e-02 -2.73458512e-02\n",
            "  5.16417145e-01  8.04439330e-02  2.28551887e-02  8.19870463e-02\n",
            "  7.83639039e-02 -3.72985694e-02 -4.88722376e-01 -1.27255237e-01\n",
            " -2.98615334e+00 -1.31051286e-01  7.87801434e-02  2.19984250e-01\n",
            "  5.29778239e-01 -5.31794293e-01 -1.24499283e-01  3.49856157e-02\n",
            " -4.61840097e-01 -6.10586178e-02  9.99865048e-02 -4.85431378e-02\n",
            "  8.97483320e-02  6.99964281e-01 -2.27834172e-02  3.18478070e-02\n",
            "  3.65044969e-01 -4.87173498e-01  2.32351141e-01  6.43943092e-01\n",
            " -3.20626052e-01 -2.85771378e-01 -3.80955282e-04 -1.08000636e-02\n",
            "  1.97740719e-01 -6.46640935e-02  4.93524472e-01  5.38814764e-01\n",
            " -5.56741565e-01 -2.18271999e-01  2.05051909e-01 -2.46532096e-01\n",
            "  6.84470757e-01 -7.45712874e-02  5.08933197e-01 -6.66361923e-02\n",
            " -2.92279496e-02  1.60866333e-01]\n"
          ]
        }
      ]
    },
    {
      "cell_type": "code",
      "source": [
        "import math\n",
        "allIndex = list(range(len(xData)))\n",
        "testIndex = np.random.choice(allIndex, size=math.floor(len(xData)/10), replace=False)\n",
        "\n",
        "mask = np.ones(len(xData), dtype=bool)\n",
        "mask[testIndex] = False\n",
        "\n",
        "xData = np.array(xData)\n",
        "yData = np.array(yData)\n",
        "xTrain = xData[mask]\n",
        "yTrain = yData[mask]\n",
        "xTest = xData[testIndex]\n",
        "yTest = yData[testIndex]"
      ],
      "metadata": {
        "id": "H1xmt4MPnBTS"
      },
      "execution_count": null,
      "outputs": []
    },
    {
      "cell_type": "code",
      "source": [
        "# Get n class\n",
        "print(len(np.unique(yData)))"
      ],
      "metadata": {
        "colab": {
          "base_uri": "https://localhost:8080/"
        },
        "id": "s0nmZbsWJdzH",
        "outputId": "a27fdcc9-034a-4396-8068-a2499587648a"
      },
      "execution_count": null,
      "outputs": [
        {
          "output_type": "stream",
          "name": "stdout",
          "text": [
            "1036\n"
          ]
        }
      ]
    },
    {
      "cell_type": "code",
      "source": [
        "import xgboost as xgb\n",
        "\n",
        "dtrain = xgb.DMatrix(xTrain, label=yTrain)\n",
        "dtest = xgb.DMatrix(xTest, label=yTest)\n",
        "\n",
        "param = {'max_depth': 6, 'eta': 0.15, 'objective': 'multi:softprob', 'num_class': 1036}\n",
        "param['nthread'] = 4\n",
        "param['eval_metric'] = 'mlogloss'\n",
        "evallist = [(dtrain, 'train'), (dtest, 'eval')]\n",
        "\n",
        "num_round = 10\n",
        "bst = xgb.train(param, dtrain, num_round, evallist)"
      ],
      "metadata": {
        "colab": {
          "base_uri": "https://localhost:8080/"
        },
        "id": "nu8OOoSvmVQg",
        "outputId": "1c1e2e8a-af62-4d09-bb70-04776d19e91a"
      },
      "execution_count": null,
      "outputs": [
        {
          "output_type": "stream",
          "name": "stdout",
          "text": [
            "[0]\ttrain-mlogloss:6.0913\teval-mlogloss:6.50577\n",
            "[1]\ttrain-mlogloss:5.46966\teval-mlogloss:6.2315\n",
            "[2]\ttrain-mlogloss:4.9908\teval-mlogloss:6.05641\n",
            "[3]\ttrain-mlogloss:4.58176\teval-mlogloss:5.92554\n",
            "[4]\ttrain-mlogloss:4.22446\teval-mlogloss:5.83198\n",
            "[5]\ttrain-mlogloss:3.90447\teval-mlogloss:5.74311\n",
            "[6]\ttrain-mlogloss:3.6172\teval-mlogloss:5.67172\n",
            "[7]\ttrain-mlogloss:3.35906\teval-mlogloss:5.60692\n",
            "[8]\ttrain-mlogloss:3.1225\teval-mlogloss:5.55538\n",
            "[9]\ttrain-mlogloss:2.90529\teval-mlogloss:5.50899\n"
          ]
        }
      ]
    },
    {
      "cell_type": "code",
      "source": [
        "print(bst.best_iteration)\n",
        "bst.save_model('101C-02.model')"
      ],
      "metadata": {
        "colab": {
          "base_uri": "https://localhost:8080/"
        },
        "id": "oo4yPdt1NBWB",
        "outputId": "c2dc8c6b-c722-4336-d976-16dcd03154c4"
      },
      "execution_count": null,
      "outputs": [
        {
          "output_type": "stream",
          "name": "stdout",
          "text": [
            "9\n"
          ]
        }
      ]
    },
    {
      "cell_type": "code",
      "source": [
        "\n",
        "import xgboost as xgb\n",
        "xgb.__version__"
      ],
      "metadata": {
        "colab": {
          "base_uri": "https://localhost:8080/",
          "height": 35
        },
        "id": "iL0nhVt4y7mq",
        "outputId": "f9490ab9-cdc0-4046-d908-379fb38a3dc6"
      },
      "execution_count": null,
      "outputs": [
        {
          "output_type": "execute_result",
          "data": {
            "text/plain": [
              "'0.90'"
            ],
            "application/vnd.google.colaboratory.intrinsic+json": {
              "type": "string"
            }
          },
          "metadata": {},
          "execution_count": 2
        }
      ]
    },
    {
      "cell_type": "code",
      "source": [
        "import json\n",
        "json.dump(keyMap, open('keyMap.json', 'w'))"
      ],
      "metadata": {
        "id": "_cZlvG9FNnH5"
      },
      "execution_count": null,
      "outputs": []
    }
  ]
}
